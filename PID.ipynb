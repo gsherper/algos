{
 "cells": [
  {
   "cell_type": "code",
   "execution_count": 72,
   "metadata": {
    "scrolled": true
   },
   "outputs": [],
   "source": [
    "import time\n",
    "\n",
    "class Pid:\n",
    "    \n",
    "    def __init__(self, kP=1, kI=0, kD=0, max_error=10, min_sample_time=1):\n",
    "        self.kP = kP\n",
    "        self.kI = kI\n",
    "        self.kD = kD\n",
    "        assert max_error > 0, \"max_intergal_error must be greater than 0\"\n",
    "        self.max_integral_error = max_error\n",
    "        self.min_sample_time = min_sample_time\n",
    "        self.reset()\n",
    "\n",
    "    def reset(self):\n",
    "        #total error\n",
    "        self.error = 0\n",
    "        self.last_error = 0\n",
    "        self.last_update_time = 0\n",
    "        self.target = 0\n",
    "        self.output = 0\n",
    "        self.integral_component = 0\n",
    "    \n",
    "    def set_target(self, value):\n",
    "        self.target = value\n",
    "    \n",
    "    def get_target(self):\n",
    "        return self.target\n",
    "    \n",
    "    def get_error(self):\n",
    "        return self.error\n",
    "    \n",
    "    def calc_proportional(self):\n",
    "        return self.kP * self.error\n",
    "    \n",
    "    def calc_integral(self):\n",
    "        self.integral_component = self.integral_component + self.error * self.dt\n",
    "        if (abs(self.integral_component) > self.max_integral_error):\n",
    "            sign_correction = 1 if self.integral_component > 0 else -1\n",
    "            self.integral_component = sign_correction * self.integral_component\n",
    "            \n",
    "        return self.kI * self.integral_component\n",
    "    \n",
    "    def calc_differential(self):\n",
    "        if (self.dt == 0):\n",
    "            return 0\n",
    "        else:\n",
    "            return self.kD * self.last_error / self.dt\n",
    "\n",
    "    \n",
    "    def update(self, current_value):\n",
    "        \n",
    "        assert current_value is not None, \"Invalid current_value is not valid\" \n",
    "        \n",
    "        self.current_value = current_value\n",
    "         \n",
    "        current_update_time = time.time()\n",
    "\n",
    "        if (self.last_update_time == 0):\n",
    "            self.dt = 1\n",
    "        else:\n",
    "            self.dt = current_update_time - self.last_update_time\n",
    "            if (self.dt < 1):\n",
    "                #default to 1 min sec sample time\n",
    "                self.dt = self.min_sample_time\n",
    "            \n",
    "        self.last_update_time = current_update_time\n",
    "\n",
    "        self.error =  self.target - self.current_value\n",
    "        \n",
    "        self.output = self.calc_proportional() + self.calc_integral() +  self.calc_differential()  \n",
    "        \n",
    "        self.last_error = self.error;\n",
    "        \n",
    "        return self.output\n",
    "    \n",
    "    def get_output_value(self):\n",
    "        return self.output\n"
   ]
  },
  {
   "cell_type": "code",
   "execution_count": 73,
   "metadata": {},
   "outputs": [
    {
     "data": {
      "image/png": "[encoded data removed]",
      "text/plain": [
       "<Figure size 432x288 with 1 Axes>"
      ]
     },
     "metadata": {
      "needs_background": "light"
     },
     "output_type": "display_data"
    }
   ],
   "source": [
    "import matplotlib.pyplot as plt\n",
    "\n",
    "def test_bench():\n",
    "    \n",
    "    def measurement(step):\n",
    "        #used to mock process delay\n",
    "        measurement = pid.get_output_value()\n",
    "        return measurement\n",
    "\n",
    "    pid = Pid(kP=.1, kI=1, kD=.2)\n",
    "    pid.set_target(0)\n",
    "    \n",
    "    output_data = []\n",
    "    error_data = []\n",
    "    target_data = []\n",
    "    steps = range(1, 200)\n",
    "    feedback = 0\n",
    "    for step in steps:\n",
    "        pid.update(current_value=feedback)\n",
    "        if (pid.get_target() > 0):\n",
    "            feedback = measurement(step)\n",
    "        if (step > 10):\n",
    "            pid.set_target(215)\n",
    "        \n",
    "        error_data.append(pid.get_error())\n",
    "        output_data.append(feedback)\n",
    "        target_data.append(pid.get_target())\n",
    "        #time delay required to simulate 1 sec sampple times in real system\n",
    "        #time.sleep(1) \n",
    "\n",
    "    plt.plot(steps, target_data)\n",
    "    plt.plot(steps, output_data)\n",
    "    plt.xlim((0, 200))\n",
    "    plt.xlabel('steps')\n",
    "    plt.ylabel('PID (Temperature)')\n",
    "    plt.title('PID Controller test')\n",
    "\n",
    "    plt.grid(True)\n",
    "    plt.show()    \n",
    "    \n",
    "test_bench()\n"
   ]
  },
  {
   "cell_type": "code",
   "execution_count": null,
   "metadata": {},
   "outputs": [],
   "source": []
  },
  {
   "cell_type": "code",
   "execution_count": null,
   "metadata": {},
   "outputs": [],
   "source": []
  }
 ],
 "metadata": {
  "kernelspec": {
   "display_name": "Python 3",
   "language": "python",
   "name": "python3"
  },
  "language_info": {
   "codemirror_mode": {
    "name": "ipython",
    "version": 3
   },
   "file_extension": ".py",
   "mimetype": "text/x-python",
   "name": "python",
   "nbconvert_exporter": "python",
   "pygments_lexer": "ipython3",
   "version": "3.7.1"
  },
  "pycharm": {
   "stem_cell": {
    "cell_type": "raw",
    "source": [],
    "metadata": {
     "collapsed": false
    }
   }
  }
 },
 "nbformat": 4,
 "nbformat_minor": 5
}